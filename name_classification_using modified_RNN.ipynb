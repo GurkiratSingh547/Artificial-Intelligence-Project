{
 "cells": [
  {
   "cell_type": "code",
   "execution_count": 1,
   "metadata": {},
   "outputs": [],
   "source": [
    "from __future__ import unicode_literals, print_function, division\n",
    "from io import open\n",
    "import glob\n",
    "import os\n",
    "import unicodedata\n",
    "import string\n",
    "import torch\n",
    "import torch.nn as nn\n",
    "import random\n",
    "import matplotlib.pyplot as plt\n",
    "import matplotlib.ticker as ticker"
   ]
  },
  {
   "cell_type": "code",
   "execution_count": 2,
   "metadata": {},
   "outputs": [
    {
     "name": "stdout",
     "output_type": "stream",
     "text": [
      "['data/names\\\\Arabic.txt', 'data/names\\\\Chinese.txt', 'data/names\\\\Czech.txt', 'data/names\\\\Dutch.txt', 'data/names\\\\English.txt', 'data/names\\\\French.txt', 'data/names\\\\German.txt', 'data/names\\\\Greek.txt', 'data/names\\\\Irish.txt', 'data/names\\\\Italian.txt', 'data/names\\\\Japanese.txt', 'data/names\\\\Korean.txt', 'data/names\\\\Polish.txt', 'data/names\\\\Portuguese.txt', 'data/names\\\\Russian.txt', 'data/names\\\\Scottish.txt', 'data/names\\\\Spanish.txt', 'data/names\\\\Vietnamese.txt']\n"
     ]
    }
   ],
   "source": [
    "def findFiles(path): return glob.glob(path)\n",
    "\n",
    "print(findFiles('data/names/*.txt'))\n",
    "\n",
    "all_letters = string.ascii_letters + \" .,;'\"\n",
    "n_letters = len(all_letters)"
   ]
  },
  {
   "cell_type": "code",
   "execution_count": 3,
   "metadata": {},
   "outputs": [
    {
     "name": "stdout",
     "output_type": "stream",
     "text": [
      "Slusarski\n"
     ]
    }
   ],
   "source": [
    "# Turn a Unicode string to plain ASCII, thanks to https://stackoverflow.com/a/518232/2809427\n",
    "\n",
    "#function is used to convert all names to ASCII Characters, refer to example below where we convert 'Ślusàrski' to 'Slusarski'.\n",
    "def unicodeToAscii(s):\n",
    "    return ''.join(\n",
    "        c for c in unicodedata.normalize('NFD', s)\n",
    "        if unicodedata.category(c) != 'Mn'\n",
    "        and c in all_letters\n",
    "    )\n",
    "\n",
    "print(unicodeToAscii('Ślusàrski'))"
   ]
  },
  {
   "cell_type": "code",
   "execution_count": 4,
   "metadata": {},
   "outputs": [
    {
     "name": "stdout",
     "output_type": "stream",
     "text": [
      "18\n",
      "['Arabic', 'Chinese', 'Czech', 'Dutch', 'English', 'French', 'German', 'Greek', 'Irish', 'Italian', 'Japanese', 'Korean', 'Polish', 'Portuguese', 'Russian', 'Scottish', 'Spanish', 'Vietnamese']\n"
     ]
    }
   ],
   "source": [
    "# Build the category_lines dictionary, a list of names per language\n",
    "category_lines = {}\n",
    "all_categories = []\n",
    "\n",
    "# Read a file and split into lines\n",
    " #each line contatins a name\n",
    "def readLines(filename):\n",
    "    lines = open(filename, encoding='utf-8').read().strip().split('\\n')\n",
    "    return [unicodeToAscii(line) for line in lines]\n",
    "\n",
    "#now read each file and write each country to a dictionary, and add each name to its value\n",
    "\n",
    "for filename in findFiles('data/names/*.txt'):\n",
    "    category = os.path.splitext(os.path.basename(filename))[0]\n",
    "    all_categories.append(category)\n",
    "    lines = readLines(filename)\n",
    "    category_lines[category] = lines\n",
    "\n",
    "n_categories = len(all_categories)\n",
    "print(n_categories)\n",
    "print(all_categories)"
   ]
  },
  {
   "cell_type": "code",
   "execution_count": 5,
   "metadata": {},
   "outputs": [],
   "source": [
    "#convert a letter to its respective index to refer to for one hot encoding\n",
    "\n",
    "def letterToIndex(letter):\n",
    "    return all_letters.find(letter)"
   ]
  },
  {
   "cell_type": "code",
   "execution_count": 6,
   "metadata": {},
   "outputs": [],
   "source": [
    "#convert each letter to one hot encoded tensor\n",
    "\n",
    "def letterToTensor(letter):\n",
    "    tensor = torch.zeros(1,n_letters)\n",
    "    tensor[0,letterToIndex(letter)] = 1\n",
    "    return tensor"
   ]
  },
  {
   "cell_type": "code",
   "execution_count": 7,
   "metadata": {},
   "outputs": [],
   "source": [
    "#conver each name to tensor\n",
    "\n",
    "def lineToTensor(line):\n",
    "    tensor = torch.zeros(len(line),1,n_letters)\n",
    "    for ind,letter in enumerate(line):     #enumerate returns the count and the object\n",
    "        tensor[ind,0,letterToIndex(letter)] = 1\n",
    "    return tensor"
   ]
  },
  {
   "cell_type": "code",
   "execution_count": 8,
   "metadata": {},
   "outputs": [
    {
     "data": {
      "text/plain": [
       "torch.Size([8, 1, 57])"
      ]
     },
     "execution_count": 8,
     "metadata": {},
     "output_type": "execute_result"
    }
   ],
   "source": [
    "lineToTensor('Gurkirat').size() #one letter has 1,57 tensors"
   ]
  },
  {
   "cell_type": "code",
   "execution_count": 9,
   "metadata": {},
   "outputs": [],
   "source": [
    "device = torch.device('cuda' if torch.cuda.is_available() else 'cpu')"
   ]
  },
  {
   "cell_type": "code",
   "execution_count": 10,
   "metadata": {},
   "outputs": [
    {
     "data": {
      "text/plain": [
       "device(type='cpu')"
      ]
     },
     "execution_count": 10,
     "metadata": {},
     "output_type": "execute_result"
    }
   ],
   "source": [
    "device"
   ]
  },
  {
   "cell_type": "code",
   "execution_count": 11,
   "metadata": {},
   "outputs": [],
   "source": [
    "a = torch.randint(2,(1,))\n",
    "if a.item==1:\n",
    "    print('yes')"
   ]
  },
  {
   "cell_type": "code",
   "execution_count": 12,
   "metadata": {},
   "outputs": [],
   "source": [
    "# revised RNN architecture\n",
    "class SNN1(nn.Module):\n",
    "\n",
    "    def __init__(self,input_size,hidden_size,output_size):\n",
    "        super().__init__()\n",
    "        self.combined_list = []\n",
    "        self.hidden_size = hidden_size\n",
    "        self.i2h = nn.Linear(input_size+hidden_size, hidden_size)\n",
    "        self.i2o = nn.Linear(input_size+hidden_size, output_size)\n",
    "        self.softmax = nn.LogSoftmax(dim=1)\n",
    "        self.gain = torch.tensor(1,requires_grad=True,dtype=torch.float32)\n",
    "        self.bias = torch.tensor(0,requires_grad=True,dtype=torch.float32)\n",
    "\n",
    "\n",
    "    def forward(self,input,hidden,combinedList):\n",
    "        combined = torch.cat((input,hidden),1)\n",
    "        hidden = self.i2h(combined)\n",
    "        if len(combinedList)!=0:\n",
    "            for i in range(1,len(combinedList)):\n",
    "                hidden += combinedList[i]\n",
    "        hidden = hidden - torch.mean(hidden,1)\n",
    "        hidden = hidden / torch.std(hidden,1)\n",
    "        hidden = self.gain*hidden + self.bias\n",
    "        combinedList.append(hidden)\n",
    "        output = self.i2o(combined)\n",
    "        output = self.softmax(output)\n",
    "        return output,hidden\n",
    "        \n",
    "    def initHidden(self):\n",
    "        return torch.zeros(1,self.hidden_size)\n",
    "\n",
    "    def initCombined(self):\n",
    "        return []     \n",
    "            \n",
    "            "
   ]
  },
  {
   "cell_type": "code",
   "execution_count": 13,
   "metadata": {},
   "outputs": [],
   "source": [
    "#intialised model\n",
    "n_hidden = 128\n",
    "rnn = SNN1(n_letters,n_hidden,n_categories)"
   ]
  },
  {
   "cell_type": "code",
   "execution_count": 14,
   "metadata": {},
   "outputs": [],
   "source": [
    "#function to print the predicted category\n",
    "def categoryFromOutput(output):\n",
    "    max, ind = output.topk(1)\n",
    "    ind = ind[0].item()\n",
    "    return all_categories[ind], ind"
   ]
  },
  {
   "cell_type": "code",
   "execution_count": 15,
   "metadata": {},
   "outputs": [],
   "source": [
    "#function to choose random sample for training loop\n",
    "\n",
    "def randomChoice(l):\n",
    "    return l[random.randint(0,len(l)-1)]\n",
    "\n",
    "def randomTrainingSample():\n",
    "    category = randomChoice(all_categories)\n",
    "    line = randomChoice(category_lines[category])\n",
    "    category_tensor = torch.tensor([all_categories.index(category)], dtype = torch.long)\n",
    "    line_tensor = lineToTensor(line)\n",
    "    return category, line, category_tensor, line_tensor"
   ]
  },
  {
   "cell_type": "code",
   "execution_count": 16,
   "metadata": {},
   "outputs": [
    {
     "name": "stdout",
     "output_type": "stream",
     "text": [
      "i2h.weight\n",
      "i2h.bias\n",
      "i2o.weight\n",
      "i2o.bias\n"
     ]
    }
   ],
   "source": [
    "\n",
    "for name, param in rnn.named_parameters():\n",
    "    print(name)"
   ]
  },
  {
   "cell_type": "code",
   "execution_count": 17,
   "metadata": {},
   "outputs": [],
   "source": [
    "#define the model parameters to be updated for backpropagation\n",
    "\n",
    "rnn.gain.retain_grad()\n",
    "rnn.bias.retain_grad()\n",
    "parameters = [rnn.i2h.weight,rnn.i2h.bias,rnn.i2o.weight,rnn.i2o.bias,rnn.gain,rnn.bias]"
   ]
  },
  {
   "cell_type": "code",
   "execution_count": 18,
   "metadata": {},
   "outputs": [],
   "source": [
    "#training loop\n",
    "loss_fn = nn.NLLLoss()\n",
    "optim = torch.optim.SGD(parameters,lr=0.005)\n",
    "\n",
    "def Train(category_tensor,line_tensor):\n",
    "    hidden = rnn.initHidden()\n",
    "    combined = rnn.initCombined()\n",
    "    y = category_tensor\n",
    "    x = line_tensor\n",
    "    for i in range(x.size()[0]):\n",
    "        output,hidden = rnn(x[i],hidden,combined)\n",
    "    \n",
    "    loss = loss_fn(output,y)\n",
    "\n",
    "    optim.zero_grad()\n",
    "    loss.backward(retain_graph=True)\n",
    "    optim.step()\n",
    "\n",
    "    return output, loss.item()\n"
   ]
  },
  {
   "cell_type": "code",
   "execution_count": 20,
   "metadata": {},
   "outputs": [
    {
     "name": "stdout",
     "output_type": "stream",
     "text": [
      "Step 5000 --> 1.9481572367101907 \n",
      "Step 10000 --> 1.8493522914126515 \n",
      "Step 15000 --> 1.7744438360705972 \n",
      "Step 20000 --> 1.6798364085294306 \n",
      "Step 25000 --> 1.597073744993657 \n",
      "Step 30000 --> 1.6700454272739589 \n",
      "Step 35000 --> 1.5419771023048088 \n",
      "Step 40000 --> 1.553313085269183 \n",
      "Step 45000 --> 1.4681473099170252 \n",
      "Step 50000 --> 1.3991814551290591 \n",
      "Step 55000 --> 1.487695987897925 \n",
      "Step 60000 --> 1.4435733576272614 \n",
      "Step 65000 --> 1.409589378452394 \n",
      "Step 70000 --> 1.3576586224441416 \n",
      "Step 75000 --> 1.33094278729707 \n",
      "Step 80000 --> 1.3695006030160002 \n",
      "Step 85000 --> 1.292694068588782 \n",
      "Step 90000 --> 1.3059685379709116 \n",
      "Step 95000 --> 1.3033529622834177 \n",
      "Step 100000 --> 1.29579237804655 \n"
     ]
    }
   ],
   "source": [
    "#trianing\n",
    "current_loss = 0\n",
    "All_losses = []\n",
    "plot_steps, print_steps = 1000,5000\n",
    "epochs = 100000\n",
    "\n",
    "for i in range(epochs):\n",
    "    category,line,category_tensor,line_tensor = randomTrainingSample()\n",
    "\n",
    "    output, loss = Train(category_tensor,line_tensor)\n",
    "    current_loss += loss\n",
    "    if (i+1)%plot_steps==0:\n",
    "        All_losses.append(current_loss/plot_steps)\n",
    "        if (i+1)%print_steps==0:\n",
    "            print(f'Step {i+1} --> {All_losses[-1]} ')\n",
    "        current_loss=0\n"
   ]
  },
  {
   "cell_type": "code",
   "execution_count": 21,
   "metadata": {},
   "outputs": [
    {
     "data": {
      "text/plain": [
       "[<matplotlib.lines.Line2D at 0x1b24b87eb20>]"
      ]
     },
     "execution_count": 21,
     "metadata": {},
     "output_type": "execute_result"
    },
    {
     "data": {
      "image/png": "[encoded data removed]",
      "text/plain": [
       "<Figure size 432x288 with 1 Axes>"
      ]
     },
     "metadata": {
      "needs_background": "light"
     },
     "output_type": "display_data"
    }
   ],
   "source": [
    "#ploting the loss function\n",
    "plt.plot(All_losses)"
   ]
  },
  {
   "cell_type": "code",
   "execution_count": 22,
   "metadata": {},
   "outputs": [],
   "source": [
    "# RNN architecture\n",
    "class RNN(nn.Module):\n",
    "    def __init__(self, Input_size, Hidden_size, Output_size):\n",
    "        super(RNN, self).__init__()\n",
    "\n",
    "        self.Hidden_size = Hidden_size\n",
    "\n",
    "        self.i2h = nn.Linear(Input_size + Hidden_size, Hidden_size)\n",
    "        self.h2o = nn.Linear(Hidden_size, Output_size)\n",
    "        self.softmax = nn.LogSoftmax(dim=1)\n",
    "\n",
    "    def forward(self, input, Hidden):\n",
    "        Combined = torch.cat((input, Hidden), 1)\n",
    "        Hidden = self.i2h(Combined)\n",
    "        Output = self.h2o(Hidden)\n",
    "        Output = self.softmax(Output)\n",
    "        return Output, Hidden\n",
    "\n",
    "    def initHidden(self):\n",
    "        return torch.zeros(1, self.Hidden_size)\n",
    "\n",
    "n_hidden = 128\n",
    "rnn = RNN(n_letters, n_hidden, n_categories)"
   ]
  },
  {
   "cell_type": "code",
   "execution_count": 23,
   "metadata": {},
   "outputs": [],
   "source": [
    "input = letterToTensor('A')\n",
    "hidden = torch.zeros(1, n_hidden)\n",
    "\n",
    "output, next_hidden = rnn(input, hidden)\n",
    "\n"
   ]
  },
  {
   "cell_type": "code",
   "execution_count": 24,
   "metadata": {},
   "outputs": [
    {
     "name": "stdout",
     "output_type": "stream",
     "text": [
      "tensor([[-2.9568, -2.9334, -2.9691, -2.8457, -2.8518, -2.9026, -2.7945, -2.8785,\n",
      "         -2.8013, -2.8419, -2.8251, -2.8790, -2.9700, -2.8820, -2.9386, -2.8777,\n",
      "         -2.9442, -2.9631]], grad_fn=<LogSoftmaxBackward0>)\n"
     ]
    }
   ],
   "source": [
    "input = lineToTensor('Albert')\n",
    "hidden = torch.zeros(1, n_hidden)\n",
    "\n",
    "output, next_hidden = rnn(input[0], hidden)\n",
    "print(output)"
   ]
  },
  {
   "cell_type": "code",
   "execution_count": 25,
   "metadata": {},
   "outputs": [
    {
     "name": "stdout",
     "output_type": "stream",
     "text": [
      "('German', 6)\n"
     ]
    }
   ],
   "source": [
    "def CategoryFromOutput(output):\n",
    "    top_n, top_i = output.topk(1)\n",
    "    category_i = top_i[0].item()\n",
    "    return all_categories[category_i], category_i\n",
    "\n",
    "print(CategoryFromOutput(output))"
   ]
  },
  {
   "cell_type": "code",
   "execution_count": 26,
   "metadata": {},
   "outputs": [
    {
     "name": "stdout",
     "output_type": "stream",
     "text": [
      "category = Korean / line = Kwak\n",
      "category = Polish / line = Grzeskiewicz\n",
      "category = Irish / line = Cathain\n",
      "category = Vietnamese / line = Chu\n",
      "category = French / line = Guerin\n",
      "category = Irish / line = Connell\n",
      "category = English / line = Alanson\n",
      "category = Russian / line = Jaganov\n",
      "category = Polish / line = Warszawski\n",
      "category = Arabic / line = Shamoun\n"
     ]
    }
   ],
   "source": [
    "import random\n",
    "\n",
    "def randomChoice(l):\n",
    "    return l[random.randint(0, len(l) - 1)]\n",
    "\n",
    "def randomTrainingExample():\n",
    "    category = randomChoice(all_categories)\n",
    "    line = randomChoice(category_lines[category])\n",
    "    category_tensor = torch.tensor([all_categories.index(category)], dtype=torch.long)\n",
    "    line_tensor = lineToTensor(line)\n",
    "    return category, line, category_tensor, line_tensor\n",
    "\n",
    "for i in range(10):\n",
    "    category, line, category_tensor, line_tensor = randomTrainingExample()\n",
    "    print('category =', category, '/ line =', line)"
   ]
  },
  {
   "cell_type": "code",
   "execution_count": 27,
   "metadata": {},
   "outputs": [],
   "source": [
    "criterion = nn.NLLLoss()"
   ]
  },
  {
   "cell_type": "code",
   "execution_count": 28,
   "metadata": {},
   "outputs": [],
   "source": [
    "learning_rate = 0.005 # If you set this too high, it might explode. If too low, it might not learn\n",
    "\n",
    "def train(category_tensor, line_tensor):\n",
    "    Hidden = rnn.initHidden()\n",
    "\n",
    "    rnn.zero_grad()\n",
    "\n",
    "    for i in range(line_tensor.size()[0]):\n",
    "        Output, Hidden = rnn(line_tensor[i], Hidden)\n",
    "\n",
    "    loss = criterion(output, category_tensor)\n",
    "    loss.backward(retain_graph = True)\n",
    "\n",
    "    # Add parameters' gradients to their values, multiplied by learning rate\n",
    "    for p in rnn.parameters():\n",
    "        p.data.add_(p.grad.data, alpha=-learning_rate)\n",
    "\n",
    "    return output, loss.item()"
   ]
  },
  {
   "cell_type": "code",
   "execution_count": null,
   "metadata": {},
   "outputs": [],
   "source": []
  },
  {
   "cell_type": "code",
   "execution_count": 29,
   "metadata": {},
   "outputs": [
    {
     "name": "stdout",
     "output_type": "stream",
     "text": [
      "5000 5% (0m 16s) 2.8790 Rim / German ✗ (Korean)\n",
      "10000 10% (0m 31s) 2.8013 Seaghdha / German ✗ (Irish)\n",
      "15000 15% (0m 47s) 2.8518 Kurray / German ✗ (English)\n",
      "20000 20% (1m 2s) 2.9568 Amari / German ✗ (Arabic)\n",
      "25000 25% (1m 16s) 2.9568 Baba / German ✗ (Arabic)\n",
      "30000 30% (1m 32s) 2.8457 Rijnders / German ✗ (Dutch)\n",
      "35000 35% (1m 47s) 2.8518 Ebden / German ✗ (English)\n",
      "40000 40% (2m 2s) 2.8820 Cardozo / German ✗ (Portuguese)\n",
      "45000 45% (2m 18s) 2.8777 Sutherland / German ✗ (Scottish)\n",
      "50000 50% (2m 32s) 2.9631 Luong / German ✗ (Vietnamese)\n",
      "55000 55% (2m 48s) 2.8419 Paternoster / German ✗ (Italian)\n",
      "60000 60% (3m 3s) 2.9568 Mikhail / German ✗ (Arabic)\n",
      "65000 65% (3m 18s) 2.9334 Rang / German ✗ (Chinese)\n",
      "70000 70% (3m 33s) 2.9334 Huan / German ✗ (Chinese)\n",
      "75000 75% (3m 48s) 2.9334 Ruan / German ✗ (Chinese)\n",
      "80000 80% (4m 3s) 2.8419 Airo / German ✗ (Italian)\n",
      "85000 85% (4m 19s) 2.8419 Palumbo / German ✗ (Italian)\n",
      "90000 90% (4m 34s) 2.7945 Schlender / German ✓\n",
      "95000 95% (4m 49s) 2.8251 Kikui / German ✗ (Japanese)\n",
      "100000 100% (5m 4s) 2.8820 Pinheiro / German ✗ (Portuguese)\n"
     ]
    }
   ],
   "source": [
    "import time\n",
    "import math\n",
    "\n",
    "n_iters = 100000\n",
    "print_every = 5000\n",
    "plot_every = 1000\n",
    "\n",
    "\n",
    "\n",
    "# Keep track of losses for plotting\n",
    "current_loss = 0\n",
    "all_losses = []\n",
    "\n",
    "def timeSince(since):\n",
    "    now = time.time()\n",
    "    s = now - since\n",
    "    m = math.floor(s / 60)\n",
    "    s -= m * 60\n",
    "    return '%dm %ds' % (m, s)\n",
    "\n",
    "start = time.time()\n",
    "\n",
    "for iter in range(1, n_iters + 1):\n",
    "    category, line, category_tensor, line_tensor = randomTrainingExample()\n",
    "    output, loss = train(category_tensor, line_tensor)\n",
    "    current_loss += loss\n",
    "\n",
    "    # Print ``iter`` number, loss, name and guess\n",
    "    if iter % print_every == 0:\n",
    "        guess, guess_i = categoryFromOutput(output)\n",
    "        correct = '✓' if guess == category else '✗ (%s)' % category\n",
    "        print('%d %d%% (%s) %.4f %s / %s %s' % (iter, iter / n_iters * 100, timeSince(start), loss, line, guess, correct))\n",
    "\n",
    "    # Add current loss avg to list of losses\n",
    "    if iter % plot_every == 0:\n",
    "        all_losses.append(current_loss / plot_every)\n",
    "        current_loss = 0"
   ]
  },
  {
   "cell_type": "code",
   "execution_count": 30,
   "metadata": {},
   "outputs": [
    {
     "data": {
      "text/plain": [
       "[<matplotlib.lines.Line2D at 0x1b24d948f70>]"
      ]
     },
     "execution_count": 30,
     "metadata": {},
     "output_type": "execute_result"
    },
    {
     "data": {
      "image/png": "[encoded data removed]",
      "text/plain": [
       "<Figure size 432x288 with 1 Axes>"
      ]
     },
     "metadata": {
      "needs_background": "light"
     },
     "output_type": "display_data"
    }
   ],
   "source": [
    "import matplotlib.pyplot as plt\n",
    "import matplotlib.ticker as ticker\n",
    "\n",
    "plt.figure()\n",
    "plt.plot(all_losses)"
   ]
  },
  {
   "cell_type": "code",
   "execution_count": 35,
   "metadata": {},
   "outputs": [],
   "source": [
    "#code to evaluate for user input\n",
    "def evaluate(line_tensor):\n",
    "    hidden = rnn.initHidden()\n",
    "\n",
    "    for i in range(line_tensor.size()[0]):\n",
    "        output, hidden = rnn(line_tensor[i], hidden)\n",
    "\n",
    "    return output"
   ]
  },
  {
   "cell_type": "code",
   "execution_count": 36,
   "metadata": {},
   "outputs": [
    {
     "name": "stdout",
     "output_type": "stream",
     "text": [
      "\n",
      "> Ronaldo\n",
      "(-0.23) Czech\n",
      "(-1.59) Polish\n",
      "(-8.31) Vietnamese\n",
      "\n",
      "> Sainz\n",
      "(-0.22) Czech\n",
      "(-1.63) Polish\n",
      "(-8.26) Vietnamese\n",
      "\n",
      "> Hamilton\n",
      "(-0.22) Czech\n",
      "(-1.64) Polish\n",
      "(-8.27) Vietnamese\n"
     ]
    }
   ],
   "source": [
    "#predict human input\n",
    "\n",
    "def predict(input_line, n_predictions=3):\n",
    "    print('\\n> %s' % input_line)\n",
    "    with torch.no_grad():\n",
    "        output = evaluate(lineToTensor(input_line))\n",
    "\n",
    "        # Get top N categories\n",
    "        topv, topi = output.topk(n_predictions, 1, True)\n",
    "        predictions = []\n",
    "\n",
    "        for i in range(n_predictions):\n",
    "            value = topv[0][i].item()\n",
    "            category_index = topi[0][i].item()\n",
    "            print('(%.2f) %s' % (value, all_categories[category_index]))\n",
    "            predictions.append([value, all_categories[category_index]])\n",
    "\n",
    "predict('Ronaldo')\n",
    "predict('Sainz')\n",
    "predict('Hamilton')"
   ]
  },
  {
   "cell_type": "code",
   "execution_count": 45,
   "metadata": {},
   "outputs": [
    {
     "data": {
      "image/png": "[encoded data removed]",
      "text/plain": [
       "<Figure size 432x288 with 1 Axes>"
      ]
     },
     "metadata": {
      "needs_background": "light"
     },
     "output_type": "display_data"
    }
   ],
   "source": [
    "# loss function graph\n",
    "import numpy as np\n",
    "import matplotlib.pyplot as plt\n",
    "\n",
    "# Example data for two graphs\n",
    "x = np.linspace(0, 100, 100)\n",
    "y1 = All_losses\n",
    "y2 = all_losses\n",
    "\n",
    "# Plot the two graphs\n",
    "plt.plot(x, y1, label='Graph 1 of modified RNN')\n",
    "plt.plot(x, y2, label='Graph 2 of  RNN')\n",
    "plt.legend()\n",
    "plt.show()\n",
    "\n"
   ]
  },
  {
   "cell_type": "code",
   "execution_count": null,
   "metadata": {},
   "outputs": [],
   "source": [
    "# Calculate mean squared error (MSE)\n",
    "mse = np.mean((y1 - y2) ** 2)\n",
    "print(\"Mean Squared Error (MSE):\", mse)"
   ]
  },
  {
   "cell_type": "code",
   "execution_count": null,
   "metadata": {},
   "outputs": [],
   "source": []
  },
  {
   "cell_type": "code",
   "execution_count": null,
   "metadata": {},
   "outputs": [],
   "source": []
  },
  {
   "cell_type": "code",
   "execution_count": null,
   "metadata": {},
   "outputs": [],
   "source": []
  },
  {
   "cell_type": "code",
   "execution_count": null,
   "metadata": {},
   "outputs": [],
   "source": []
  },
  {
   "cell_type": "code",
   "execution_count": null,
   "metadata": {},
   "outputs": [],
   "source": []
  }
 ],
 "metadata": {
  "kernelspec": {
   "display_name": "Python 3 (ipykernel)",
   "language": "python",
   "name": "python3"
  },
  "language_info": {
   "codemirror_mode": {
    "name": "ipython",
    "version": 3
   },
   "file_extension": ".py",
   "mimetype": "text/x-python",
   "name": "python",
   "nbconvert_exporter": "python",
   "pygments_lexer": "ipython3",
   "version": "3.9.12"
  },
  "vscode": {
   "interpreter": {
    "hash": "26de051ba29f2982a8de78e945f0abaf191376122a1563185a90213a26c5da77"
   }
  }
 },
 "nbformat": 4,
 "nbformat_minor": 2
}
